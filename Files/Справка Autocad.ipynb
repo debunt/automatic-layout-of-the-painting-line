{
 "cells": [
  {
   "cell_type": "markdown",
   "metadata": {
    "collapsed": true
   },
   "source": [
    "#Добавление нового слоя, смена его цвета, активация его\n"
   ]
  },
  {
   "cell_type": "code",
   "execution_count": null,
   "metadata": {},
   "outputs": [],
   "source": [
    "newLayer = self.acad.doc.Layers.Add(\"name\")#добавить новый слой\n",
    "newLayer.Color = 100 #смена цвета выбранного слоя\n",
    "self.acad.doc.ActiveLayer = newLayer  # выбор текущего слоя\n",
    "self.acad.model.AddLine(APoint(0, 0), APoint(10, 10))#Рисование линии в текущем слое    \n",
    "for obj in self.acad.iter_objects():\n",
    "    print(\"Зашел в цикл\")\n",
    "    print(obj.startPoint, obj.endPoint, type(obj.startPoint))\n",
    "    print(obj.color)\n",
    "    print(obj.layer, type(obj.layer))\n",
    "    #obj.layer = \"0\" # присваивание новому слою\n",
    "    obj.startPoint = APoint(0,0)"
   ]
  },
  {
   "cell_type": "code",
   "execution_count": null,
   "metadata": {},
   "outputs": [],
   "source": []
  }
 ],
 "metadata": {
  "kernelspec": {
   "display_name": "Python 2",
   "language": "python",
   "name": "python2"
  },
  "language_info": {
   "codemirror_mode": {
    "name": "ipython",
    "version": 2
   },
   "file_extension": ".py",
   "mimetype": "text/x-python",
   "name": "python",
   "nbconvert_exporter": "python",
   "pygments_lexer": "ipython2",
   "version": "2.7.6"
  }
 },
 "nbformat": 4,
 "nbformat_minor": 0
}
